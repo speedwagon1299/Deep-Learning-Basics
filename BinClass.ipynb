{
 "cells": [
  {
   "cell_type": "code",
   "execution_count": 1,
   "metadata": {},
   "outputs": [],
   "source": [
    "import numpy as np"
   ]
  },
  {
   "cell_type": "code",
   "execution_count": 2,
   "metadata": {},
   "outputs": [],
   "source": [
    "m = 20\n",
    "X = np.random.randint(0,2,(2,m))\n",
    "Y = np.logical_and(X[0] == 1, X[1] == 0).astype(int).reshape((1,m))"
   ]
  },
  {
   "cell_type": "code",
   "execution_count": 3,
   "metadata": {},
   "outputs": [],
   "source": [
    "def sigmoid(z):\n",
    "    return 1/(1+np.exp(-z))"
   ]
  },
  {
   "cell_type": "code",
   "execution_count": 4,
   "metadata": {},
   "outputs": [],
   "source": [
    "def Elesize(X,Y):\n",
    "    n_x = X.shape[0]\n",
    "    n_y = Y.shape[0]\n",
    "    ns = {'n_x':n_x,'n_y':n_y}\n",
    "    return ns"
   ]
  },
  {
   "cell_type": "code",
   "execution_count": 5,
   "metadata": {},
   "outputs": [],
   "source": [
    "def ini_parameters(n_x,n_y):\n",
    "    w = np.random.randn(n_y,n_x)*0.01\n",
    "    b = np.zeros((n_y,1))\n",
    "    parameters = {'w' : w, 'b' : b}\n",
    "    return parameters"
   ]
  },
  {
   "cell_type": "code",
   "execution_count": 6,
   "metadata": {},
   "outputs": [],
   "source": [
    "def forward_propogation(parameters,X):\n",
    "    w = parameters['w']\n",
    "    b = parameters['b']\n",
    "    z = np.matmul(w,X) + b\n",
    "    sigz = sigmoid(z)\n",
    "    return sigz"
   ]
  },
  {
   "cell_type": "code",
   "execution_count": 7,
   "metadata": {},
   "outputs": [],
   "source": [
    "def cost(y_cap,y):\n",
    "    return np.sum(-np.multiply(y,np.log(y_cap)) - np.multiply((1-y),np.log(1-y_cap)))/m"
   ]
  },
  {
   "cell_type": "code",
   "execution_count": 8,
   "metadata": {},
   "outputs": [],
   "source": [
    "def backward_propogation(y,y_cap,x):\n",
    "    dw = (1/m)*np.dot((y-y_cap),x.T)\n",
    "    db = (1/m)*np.sum((y-y_cap))\n",
    "    iter = {'dw':dw, 'db':db}\n",
    "    return iter"
   ]
  },
  {
   "cell_type": "code",
   "execution_count": 9,
   "metadata": {},
   "outputs": [],
   "source": [
    "def update(iter,parameters,lr=1.2):\n",
    "    w = parameters['w']\n",
    "    b = parameters['b']\n",
    "    dw = iter['dw']\n",
    "    db = iter['db']\n",
    "    w = w + lr*dw\n",
    "    b = b + lr*db\n",
    "    parameters = {'w':w,'b':b}\n",
    "    return parameters"
   ]
  },
  {
   "cell_type": "code",
   "execution_count": 10,
   "metadata": {},
   "outputs": [],
   "source": [
    "def nn_model(X,Y,num=20,lr=1,print_cost=False):\n",
    "    ns = Elesize(X,Y)\n",
    "    n_x = ns['n_x']\n",
    "    n_y = ns['n_y']\n",
    "    parameters = ini_parameters(n_x,n_y)\n",
    "    for i in range(0,num):\n",
    "        y_cap = forward_propogation(parameters,X)\n",
    "        if print_cost:\n",
    "            print(cost(y_cap,Y))\n",
    "        iter = backward_propogation(Y,y_cap,X)\n",
    "        parameters = update(iter,parameters)\n",
    "    return parameters"
   ]
  },
  {
   "cell_type": "code",
   "execution_count": 11,
   "metadata": {},
   "outputs": [
    {
     "name": "stdout",
     "output_type": "stream",
     "text": [
      "0.6933585271780427\n",
      "0.5456985778438888\n",
      "0.48436808201742976\n",
      "0.4489632439019404\n",
      "0.42336235271781986\n",
      "0.40244409948445875\n",
      "0.38426723539639296\n",
      "0.36797923356678564\n",
      "0.35314954593326864\n",
      "0.33952747063417144\n",
      "0.32694589678243446\n",
      "0.31528049954722476\n",
      "0.3044315171339741\n",
      "0.2943151532335818\n",
      "0.2848592116085027\n",
      "0.2760006410969348\n",
      "0.26768397315196113\n",
      "0.2598602016794465\n",
      "0.2524859046388878\n",
      "0.2455225165792056\n",
      "weight [[ 1.52276562 -1.9731147 ]]\n",
      "bias [[-1.31456751]]\n"
     ]
    }
   ],
   "source": [
    "final_parameters = nn_model(X,Y, print_cost=True)\n",
    "print('weight', final_parameters['w'])\n",
    "print('bias', final_parameters['b'])"
   ]
  },
  {
   "cell_type": "code",
   "execution_count": null,
   "metadata": {},
   "outputs": [],
   "source": []
  }
 ],
 "metadata": {
  "kernelspec": {
   "display_name": "Python 3",
   "language": "python",
   "name": "python3"
  },
  "language_info": {
   "codemirror_mode": {
    "name": "ipython",
    "version": 3
   },
   "file_extension": ".py",
   "mimetype": "text/x-python",
   "name": "python",
   "nbconvert_exporter": "python",
   "pygments_lexer": "ipython3",
   "version": "3.11.0"
  },
  "orig_nbformat": 4
 },
 "nbformat": 4,
 "nbformat_minor": 2
}
