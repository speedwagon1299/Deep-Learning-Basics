{
 "cells": [
  {
   "cell_type": "code",
   "execution_count": 1,
   "metadata": {},
   "outputs": [],
   "source": [
    "import pandas as pd\n",
    "import numpy as np"
   ]
  },
  {
   "cell_type": "code",
   "execution_count": 13,
   "metadata": {},
   "outputs": [
    {
     "name": "stdout",
     "output_type": "stream",
     "text": [
      "2\n"
     ]
    }
   ],
   "source": [
    "list1 = ['hi','hi','mister',65,'vegeta','sir',68,'moe howard']\n",
    "count = 0\n",
    "for i in list1:\n",
    "    if(i == 'hi'):\n",
    "        count+= 1\n",
    "print(count)"
   ]
  },
  {
   "cell_type": "code",
   "execution_count": 5,
   "metadata": {},
   "outputs": [
    {
     "name": "stdout",
     "output_type": "stream",
     "text": [
      "['moe howard', 68, 'sir', 'vegeta', 65, 'mister', 'hello', 'hi']\n"
     ]
    }
   ],
   "source": [
    "print(list1[::-1])"
   ]
  },
  {
   "cell_type": "code",
   "execution_count": 60,
   "metadata": {},
   "outputs": [
    {
     "name": "stdout",
     "output_type": "stream",
     "text": [
      "{'banana': 4, 'orange': 7, 'apple': 12}\n",
      "[1 2 0]\n"
     ]
    }
   ],
   "source": [
    "my_dict = {'apple': 12, 'banana': 4, 'orange': 7}\n",
    "my_keys = list(my_dict.keys())\n",
    "my_values = list(my_dict.values())\n",
    "my_list = np.argsort(my_values)\n",
    "sorted_dict = {my_keys[i]:my_values[i] for i in my_list}\n",
    "print(sorted_dict)\n",
    "print(my_list)"
   ]
  },
  {
   "cell_type": "code",
   "execution_count": 58,
   "metadata": {},
   "outputs": [
    {
     "name": "stdout",
     "output_type": "stream",
     "text": [
      "{'Alice': 100000, 'Carol': 122908}\n"
     ]
    }
   ],
   "source": [
    "employees = {'Alice': 100000, 'Bob': 99817, 'Carol': 122908, 'Frank': 88123, 'Eve': 93121}\n",
    "top_earners = {x:y for x,y in employees.items() if y >= 100000}\n",
    "print(top_earners)"
   ]
  },
  {
   "cell_type": "code",
   "execution_count": null,
   "metadata": {},
   "outputs": [],
   "source": []
  }
 ],
 "metadata": {
  "kernelspec": {
   "display_name": "Python 3",
   "language": "python",
   "name": "python3"
  },
  "language_info": {
   "codemirror_mode": {
    "name": "ipython",
    "version": 3
   },
   "file_extension": ".py",
   "mimetype": "text/x-python",
   "name": "python",
   "nbconvert_exporter": "python",
   "pygments_lexer": "ipython3",
   "version": "3.11.0"
  },
  "orig_nbformat": 4
 },
 "nbformat": 4,
 "nbformat_minor": 2
}
