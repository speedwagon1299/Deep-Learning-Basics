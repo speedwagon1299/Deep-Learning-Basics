{
 "cells": [
  {
   "cell_type": "code",
   "execution_count": 1,
   "metadata": {},
   "outputs": [],
   "source": [
    "import pandas as pd\n",
    "import numpy as np\n",
    "import matplotlib as mpt\n",
    "import tensorflow as tf"
   ]
  },
  {
   "cell_type": "code",
   "execution_count": 2,
   "metadata": {},
   "outputs": [
    {
     "name": "stdout",
     "output_type": "stream",
     "text": [
      "<tf.Variable 'Variable:0' shape=() dtype=float32, numpy=0.0>\n"
     ]
    }
   ],
   "source": [
    "w = tf.Variable(0, dtype=tf.float32)   #initialized to 0 and variable to optimize\n",
    "optimizer = tf.keras.optimizers.Adam(0.1)   #0.1 is learning rate\n",
    "\n",
    "def train_step():\n",
    "    with tf.GradientTape() as tape:   #tape since after forward prop, backward prop is calculated. 'with' is used for simple exception handling\n",
    "        cost = w**2 - 10*w + 25\n",
    "    trainable_variables = [w]\n",
    "    grads = tape.gradient(cost, trainable_variables)    #same as d<cost function>/d<var> therefore input (J, [var])\n",
    "    optimizer.apply_gradients(zip(grads,trainable_variables))   #using corresponding grad updating parameters(variables) therefore zipped tuple of (grads,trainable_variables)\n",
    "\n",
    "print(w)"
   ]
  },
  {
   "cell_type": "code",
   "execution_count": 3,
   "metadata": {},
   "outputs": [
    {
     "name": "stdout",
     "output_type": "stream",
     "text": [
      "<tf.Variable 'Variable:0' shape=() dtype=float32, numpy=0.09999931>\n"
     ]
    }
   ],
   "source": [
    "train_step()\n",
    "print(w)"
   ]
  },
  {
   "cell_type": "code",
   "execution_count": 5,
   "metadata": {},
   "outputs": [
    {
     "name": "stdout",
     "output_type": "stream",
     "text": [
      "<tf.Variable 'Variable:0' shape=() dtype=float32, numpy=5.000125>\n"
     ]
    }
   ],
   "source": [
    "for i in range(100):\n",
    "    train_step()\n",
    "print(w)"
   ]
  },
  {
   "cell_type": "code",
   "execution_count": 25,
   "metadata": {},
   "outputs": [],
   "source": [
    "w = tf.Variable(0, dtype=tf.float32)  \n",
    "x = np.array([1.,-10.,25.],dtype=np.float32)\n",
    "optimizer = tf.keras.optimizers.Adam(0.1)\n",
    "\n",
    "def training(x,w,optimizer):\n",
    "\n",
    "    def cost_fn():\n",
    "        return x[0]*w**2 + x[1]*w + x[2]\n",
    "    for i in range(502):\n",
    "        optimizer.minimize(cost_fn,[w])     #use function without () idrk why\n",
    "    return w"
   ]
  },
  {
   "cell_type": "code",
   "execution_count": 26,
   "metadata": {},
   "outputs": [
    {
     "name": "stdout",
     "output_type": "stream",
     "text": [
      "<tf.Variable 'Variable:0' shape=() dtype=float32, numpy=5.0000014>\n"
     ]
    }
   ],
   "source": [
    "w = training(x,w,optimizer)\n",
    "print(w)"
   ]
  }
 ],
 "metadata": {
  "kernelspec": {
   "display_name": "Python 3",
   "language": "python",
   "name": "python3"
  },
  "language_info": {
   "codemirror_mode": {
    "name": "ipython",
    "version": 3
   },
   "file_extension": ".py",
   "mimetype": "text/x-python",
   "name": "python",
   "nbconvert_exporter": "python",
   "pygments_lexer": "ipython3",
   "version": "3.11.0"
  },
  "orig_nbformat": 4
 },
 "nbformat": 4,
 "nbformat_minor": 2
}
